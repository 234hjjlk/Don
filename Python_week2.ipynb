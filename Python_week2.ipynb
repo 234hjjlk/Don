{
 "cells": [
  {
   "cell_type": "code",
   "execution_count": 1,
   "id": "a1b49056-98b8-4710-860b-da81d5111523",
   "metadata": {},
   "outputs": [],
   "source": [
    "list1=[7,1,2,5,8]"
   ]
  },
  {
   "cell_type": "code",
   "execution_count": 2,
   "id": "e4c931ac-88e7-4466-97ee-068db40748d6",
   "metadata": {},
   "outputs": [
    {
     "data": {
      "text/plain": [
       "[7, 1, 2, 5, 8, 12]"
      ]
     },
     "execution_count": 2,
     "metadata": {},
     "output_type": "execute_result"
    }
   ],
   "source": [
    "list1.append(12)\n",
    "list1"
   ]
  },
  {
   "cell_type": "code",
   "execution_count": 3,
   "id": "e48aeb17-a2cf-46ab-b81f-97fbfd44bc34",
   "metadata": {},
   "outputs": [
    {
     "data": {
      "text/plain": [
       "[15, 7, 1, 2, 5, 8, 12]"
      ]
     },
     "execution_count": 3,
     "metadata": {},
     "output_type": "execute_result"
    }
   ],
   "source": [
    "list1.insert(0,15)\n",
    "list1"
   ]
  },
  {
   "cell_type": "code",
   "execution_count": 4,
   "id": "e7dd6a31-c7f1-4384-afd1-d24dde341b23",
   "metadata": {},
   "outputs": [
    {
     "data": {
      "text/plain": [
       "[15, 7, 1, 2, 5, 8, 12, 6, 10, -3]"
      ]
     },
     "execution_count": 4,
     "metadata": {},
     "output_type": "execute_result"
    }
   ],
   "source": [
    "list1.extend([6,10,-3])\n",
    "list1"
   ]
  },
  {
   "cell_type": "code",
   "execution_count": 5,
   "id": "e117beb7-0e2c-44cd-bfe6-29a6f7e545c3",
   "metadata": {},
   "outputs": [],
   "source": [
    "#update"
   ]
  },
  {
   "cell_type": "code",
   "execution_count": 7,
   "id": "3ecfb0da-20d4-4a0f-8413-ff9e56f76f93",
   "metadata": {},
   "outputs": [],
   "source": [
    "list1[4]=-5"
   ]
  },
  {
   "cell_type": "code",
   "execution_count": 8,
   "id": "e846f8dc-64a0-4f78-b8c5-9cac598bcbb0",
   "metadata": {},
   "outputs": [
    {
     "data": {
      "text/plain": [
       "[15, 7, 1, 2, -5, 8, 12, 6, 10, -3]"
      ]
     },
     "execution_count": 8,
     "metadata": {},
     "output_type": "execute_result"
    }
   ],
   "source": [
    "list1"
   ]
  },
  {
   "cell_type": "code",
   "execution_count": 12,
   "id": "2ea782df-fb1a-47b0-86fb-5a6e7ccc6095",
   "metadata": {},
   "outputs": [],
   "source": [
    "#removal-- pop() removes last element by default"
   ]
  },
  {
   "cell_type": "code",
   "execution_count": 11,
   "id": "a5f11724-d9ae-47e3-9f35-46e036e469f1",
   "metadata": {},
   "outputs": [
    {
     "data": {
      "text/plain": [
       "[15, 7, 1, 2, -5, 8, 6, 10]"
      ]
     },
     "execution_count": 11,
     "metadata": {},
     "output_type": "execute_result"
    }
   ],
   "source": [
    "list1.pop(6)\n",
    "list1"
   ]
  },
  {
   "cell_type": "code",
   "execution_count": 13,
   "id": "f5a04b86-611e-4cf4-a9ef-1c6d0b550089",
   "metadata": {},
   "outputs": [],
   "source": [
    "#remove()-- removes based on value"
   ]
  },
  {
   "cell_type": "code",
   "execution_count": 14,
   "id": "4e127c6d-07ba-41cf-b60f-82aaa81e501c",
   "metadata": {},
   "outputs": [
    {
     "data": {
      "text/plain": [
       "[15, 7, 1, 2, 8, 6, 10]"
      ]
     },
     "execution_count": 14,
     "metadata": {},
     "output_type": "execute_result"
    }
   ],
   "source": [
    "list1.remove(-5)\n",
    "list1"
   ]
  },
  {
   "cell_type": "code",
   "execution_count": 15,
   "id": "c79e2a94-c6bb-410c-b4e2-f1d26900efa5",
   "metadata": {},
   "outputs": [
    {
     "data": {
      "text/plain": [
       "[15, 7, 1, 2, 6, 10]"
      ]
     },
     "execution_count": 15,
     "metadata": {},
     "output_type": "execute_result"
    }
   ],
   "source": [
    "del list1[4]\n",
    "list1"
   ]
  },
  {
   "cell_type": "code",
   "execution_count": 16,
   "id": "f75a1ca7-e005-4b07-a083-540202ddcbb0",
   "metadata": {},
   "outputs": [],
   "source": [
    "#reverse() -- reverses the list"
   ]
  },
  {
   "cell_type": "code",
   "execution_count": 17,
   "id": "14766eaf-a4e3-43f9-862d-9c3b229795db",
   "metadata": {},
   "outputs": [
    {
     "data": {
      "text/plain": [
       "[15, 7, 1, 2, 6, 10]"
      ]
     },
     "execution_count": 17,
     "metadata": {},
     "output_type": "execute_result"
    }
   ],
   "source": [
    "list1"
   ]
  },
  {
   "cell_type": "code",
   "execution_count": 18,
   "id": "89e5e500-a4d0-44c9-9711-609c8f153837",
   "metadata": {},
   "outputs": [
    {
     "data": {
      "text/plain": [
       "[10, 6, 2, 1, 7, 15]"
      ]
     },
     "execution_count": 18,
     "metadata": {},
     "output_type": "execute_result"
    }
   ],
   "source": [
    "list1.reverse()\n",
    "list1"
   ]
  },
  {
   "cell_type": "code",
   "execution_count": 19,
   "id": "15da49a2-f257-4766-bf21-5a19544bcbf8",
   "metadata": {},
   "outputs": [
    {
     "data": {
      "text/plain": [
       "[15, 7, 1, 2, 6, 10]"
      ]
     },
     "execution_count": 19,
     "metadata": {},
     "output_type": "execute_result"
    }
   ],
   "source": [
    "list1[::-1]"
   ]
  },
  {
   "cell_type": "code",
   "execution_count": 20,
   "id": "aa1f04c2-c8a1-4b58-bfd2-dda914fe4f5f",
   "metadata": {},
   "outputs": [],
   "source": [
    "#sort()-- sorts/arranges data in ascending order"
   ]
  },
  {
   "cell_type": "code",
   "execution_count": 21,
   "id": "938186ab-a9c5-4de3-990c-d2672e979f35",
   "metadata": {},
   "outputs": [
    {
     "data": {
      "text/plain": [
       "[1, 2, 6, 7, 10, 15]"
      ]
     },
     "execution_count": 21,
     "metadata": {},
     "output_type": "execute_result"
    }
   ],
   "source": [
    "list1.sort()\n",
    "list1"
   ]
  },
  {
   "cell_type": "code",
   "execution_count": 25,
   "id": "fb3d2e63-52b0-4c4f-841d-16fca507fe59",
   "metadata": {},
   "outputs": [
    {
     "data": {
      "text/plain": [
       "[15, 10, 7, 6, 2, 1]"
      ]
     },
     "execution_count": 25,
     "metadata": {},
     "output_type": "execute_result"
    }
   ],
   "source": [
    "list1.sort(reverse=True)  #descending order\n",
    "list1"
   ]
  },
  {
   "cell_type": "markdown",
   "id": "066ee8b5-39b4-4e8b-9a39-60fbed2116eb",
   "metadata": {},
   "source": [
    "# Tuple"
   ]
  },
  {
   "cell_type": "markdown",
   "id": "46e5483f-0d2b-485e-a43e-64992653ab4a",
   "metadata": {},
   "source": [
    "* It is immutable datastructure. Once you create you cannot change the content of tuple\n",
    "* All elements in tuple are stored in ()\n",
    "* We prefer tuple only if we dont want to change data over time"
   ]
  },
  {
   "cell_type": "code",
   "execution_count": 2,
   "id": "b97a474a-e193-48e1-92ba-e09b1d1adf91",
   "metadata": {},
   "outputs": [
    {
     "data": {
      "text/plain": [
       "()"
      ]
     },
     "execution_count": 2,
     "metadata": {},
     "output_type": "execute_result"
    }
   ],
   "source": [
    "t1=()  #empty tuple\n",
    "t1"
   ]
  },
  {
   "cell_type": "code",
   "execution_count": 4,
   "id": "be782990-92af-4177-ac97-224107e4a313",
   "metadata": {},
   "outputs": [
    {
     "data": {
      "text/plain": [
       "tuple"
      ]
     },
     "execution_count": 4,
     "metadata": {},
     "output_type": "execute_result"
    }
   ],
   "source": [
    "type(t1)"
   ]
  },
  {
   "cell_type": "code",
   "execution_count": 6,
   "id": "28f89773-2446-4c8c-a708-f733d4a887e9",
   "metadata": {},
   "outputs": [
    {
     "data": {
      "text/plain": [
       "(5, -2, 3, 6)"
      ]
     },
     "execution_count": 6,
     "metadata": {},
     "output_type": "execute_result"
    }
   ],
   "source": [
    "t2=(5,-2,3,6) #tuple of int\n",
    "t2"
   ]
  },
  {
   "cell_type": "code",
   "execution_count": 8,
   "id": "257d530c-8e59-4f12-b2ef-cf3bc6bbc075",
   "metadata": {},
   "outputs": [
    {
     "data": {
      "text/plain": [
       "(8, 'hi', 6.2, True)"
      ]
     },
     "execution_count": 8,
     "metadata": {},
     "output_type": "execute_result"
    }
   ],
   "source": [
    "t3=(8,\"hi\",6.2,True)  #tuple of mixed data\n",
    "t3"
   ]
  },
  {
   "cell_type": "code",
   "execution_count": 10,
   "id": "baf326e3-77f0-4cd8-9d37-cf3c57b092cc",
   "metadata": {},
   "outputs": [
    {
     "data": {
      "text/plain": [
       "(5, -2, 3, 6)"
      ]
     },
     "execution_count": 10,
     "metadata": {},
     "output_type": "execute_result"
    }
   ],
   "source": [
    "t2"
   ]
  },
  {
   "cell_type": "code",
   "execution_count": 12,
   "id": "1d303199-19e4-4826-9bd0-9bdec999ad22",
   "metadata": {},
   "outputs": [
    {
     "data": {
      "text/plain": [
       "6"
      ]
     },
     "execution_count": 12,
     "metadata": {},
     "output_type": "execute_result"
    }
   ],
   "source": [
    "t2[-1]"
   ]
  },
  {
   "cell_type": "code",
   "execution_count": 14,
   "id": "e4b867e8-bd2e-4765-864f-b7001245564e",
   "metadata": {},
   "outputs": [
    {
     "data": {
      "text/plain": [
       "(5, -2)"
      ]
     },
     "execution_count": 14,
     "metadata": {},
     "output_type": "execute_result"
    }
   ],
   "source": [
    "t2[0:2]"
   ]
  },
  {
   "cell_type": "code",
   "execution_count": 16,
   "id": "473516f4-d0bd-4f1d-a09b-a91e6199b7dd",
   "metadata": {},
   "outputs": [
    {
     "ename": "TypeError",
     "evalue": "'tuple' object does not support item assignment",
     "output_type": "error",
     "traceback": [
      "\u001b[1;31m---------------------------------------------------------------------------\u001b[0m",
      "\u001b[1;31mTypeError\u001b[0m                                 Traceback (most recent call last)",
      "Cell \u001b[1;32mIn[16], line 1\u001b[0m\n\u001b[1;32m----> 1\u001b[0m t2[\u001b[38;5;241m1\u001b[39m]\u001b[38;5;241m=\u001b[39m\u001b[38;5;241m7\u001b[39m\n",
      "\u001b[1;31mTypeError\u001b[0m: 'tuple' object does not support item assignment"
     ]
    }
   ],
   "source": [
    "t2[1]=7   #Item updation is not supported"
   ]
  },
  {
   "cell_type": "code",
   "execution_count": 41,
   "id": "308fa8eb-5346-48c6-8519-61ae9546baff",
   "metadata": {},
   "outputs": [
    {
     "ename": "TypeError",
     "evalue": "'tuple' object doesn't support item deletion",
     "output_type": "error",
     "traceback": [
      "\u001b[1;31m---------------------------------------------------------------------------\u001b[0m",
      "\u001b[1;31mTypeError\u001b[0m                                 Traceback (most recent call last)",
      "Cell \u001b[1;32mIn[41], line 1\u001b[0m\n\u001b[1;32m----> 1\u001b[0m \u001b[38;5;28;01mdel\u001b[39;00m t2[\u001b[38;5;241m1\u001b[39m]\n",
      "\u001b[1;31mTypeError\u001b[0m: 'tuple' object doesn't support item deletion"
     ]
    }
   ],
   "source": [
    "del t2[1]  #Item deletion is not supported"
   ]
  },
  {
   "cell_type": "code",
   "execution_count": 18,
   "id": "8dbe4242-5594-4307-9f23-c658fb14f5ce",
   "metadata": {},
   "outputs": [],
   "source": [
    "del t2"
   ]
  },
  {
   "cell_type": "code",
   "execution_count": 20,
   "id": "f7609661-be6e-4b4e-9184-ca47fd20fc29",
   "metadata": {},
   "outputs": [
    {
     "ename": "NameError",
     "evalue": "name 't2' is not defined",
     "output_type": "error",
     "traceback": [
      "\u001b[1;31m---------------------------------------------------------------------------\u001b[0m",
      "\u001b[1;31mNameError\u001b[0m                                 Traceback (most recent call last)",
      "Cell \u001b[1;32mIn[20], line 1\u001b[0m\n\u001b[1;32m----> 1\u001b[0m t2\n",
      "\u001b[1;31mNameError\u001b[0m: name 't2' is not defined"
     ]
    }
   ],
   "source": [
    "t2"
   ]
  },
  {
   "cell_type": "code",
   "execution_count": 44,
   "id": "cf924f59-862e-42c8-a666-997ca49d893d",
   "metadata": {},
   "outputs": [],
   "source": [
    "#sorting"
   ]
  },
  {
   "cell_type": "code",
   "execution_count": 45,
   "id": "61547d97-73eb-42b0-bcb0-1d6ff6006785",
   "metadata": {},
   "outputs": [],
   "source": [
    "t4=(5,12,-3,6)"
   ]
  },
  {
   "cell_type": "code",
   "execution_count": 47,
   "id": "d58b18dd-9f5e-4486-8b87-d0547d7e1570",
   "metadata": {},
   "outputs": [],
   "source": [
    "#sorted() will not update original tuple. It returns the sorted tuple in the form of list"
   ]
  },
  {
   "cell_type": "code",
   "execution_count": 46,
   "id": "c13d3ead-32c2-41d7-9573-7ab8b0ae6fb0",
   "metadata": {},
   "outputs": [
    {
     "data": {
      "text/plain": [
       "[-3, 5, 6, 12]"
      ]
     },
     "execution_count": 46,
     "metadata": {},
     "output_type": "execute_result"
    }
   ],
   "source": [
    "sorted(t4)"
   ]
  },
  {
   "cell_type": "code",
   "execution_count": 48,
   "id": "3172d613-3bbc-48d7-9b24-0d2a9dc18e9c",
   "metadata": {},
   "outputs": [
    {
     "data": {
      "text/plain": [
       "(5, 12, -3, 6)"
      ]
     },
     "execution_count": 48,
     "metadata": {},
     "output_type": "execute_result"
    }
   ],
   "source": [
    "t4"
   ]
  },
  {
   "cell_type": "code",
   "execution_count": 50,
   "id": "78bd36c8-ac84-43a2-acb6-c5257ce512dc",
   "metadata": {},
   "outputs": [
    {
     "data": {
      "text/plain": [
       "(6, -3, 12, 5)"
      ]
     },
     "execution_count": 50,
     "metadata": {},
     "output_type": "execute_result"
    }
   ],
   "source": [
    "t4[::-1]  #reverse the tuple"
   ]
  },
  {
   "cell_type": "code",
   "execution_count": 51,
   "id": "64e0dba6-9ff7-48aa-b464-0bff7dc57a44",
   "metadata": {},
   "outputs": [
    {
     "data": {
      "text/plain": [
       "(5, 12, -3, 6)"
      ]
     },
     "execution_count": 51,
     "metadata": {},
     "output_type": "execute_result"
    }
   ],
   "source": [
    "t4"
   ]
  },
  {
   "cell_type": "code",
   "execution_count": 56,
   "id": "6765a2f7-75fd-422e-bf95-76eba46af1ba",
   "metadata": {},
   "outputs": [
    {
     "data": {
      "text/plain": [
       "0"
      ]
     },
     "execution_count": 56,
     "metadata": {},
     "output_type": "execute_result"
    }
   ],
   "source": [
    "#count()\n",
    "t5=(1,2,1,4,6,1)\n",
    "t5.count(8)"
   ]
  },
  {
   "cell_type": "code",
   "execution_count": 53,
   "id": "67aad3d5-ecd0-4f8a-9087-30bd604f2ffe",
   "metadata": {},
   "outputs": [
    {
     "data": {
      "text/plain": [
       "3"
      ]
     },
     "execution_count": 53,
     "metadata": {},
     "output_type": "execute_result"
    }
   ],
   "source": [
    "#index()\n",
    "t5.index(4)"
   ]
  },
  {
   "cell_type": "markdown",
   "id": "a7e7ca32-1017-4090-8988-923199c1344c",
   "metadata": {},
   "source": [
    "# Set"
   ]
  },
  {
   "cell_type": "markdown",
   "id": "f0a52a18-1dd5-4b93-93b9-64b98ad21584",
   "metadata": {},
   "source": [
    "* Set is mutable, unordered collection of elements put inside {}\n",
    "* Indexing is not supported here\n",
    "* Duplicates are ignored in sets"
   ]
  },
  {
   "cell_type": "code",
   "execution_count": 60,
   "id": "fe953f6d-ee9c-4af5-8ae6-52c4e2caca1f",
   "metadata": {},
   "outputs": [
    {
     "data": {
      "text/plain": [
       "set()"
      ]
     },
     "execution_count": 60,
     "metadata": {},
     "output_type": "execute_result"
    }
   ],
   "source": [
    "s1=set() #empty set\n",
    "s1"
   ]
  },
  {
   "cell_type": "code",
   "execution_count": 61,
   "id": "d6538308-ab0e-406b-9ae5-d358bb1c1b32",
   "metadata": {},
   "outputs": [
    {
     "data": {
      "text/plain": [
       "set"
      ]
     },
     "execution_count": 61,
     "metadata": {},
     "output_type": "execute_result"
    }
   ],
   "source": [
    "type(s1)"
   ]
  },
  {
   "cell_type": "code",
   "execution_count": 26,
   "id": "5191e163-fbfb-4d7e-9ea0-34afca3d67ce",
   "metadata": {},
   "outputs": [
    {
     "data": {
      "text/plain": [
       "{-1, 1, 2, 5}"
      ]
     },
     "execution_count": 26,
     "metadata": {},
     "output_type": "execute_result"
    }
   ],
   "source": [
    "s2={5,2,1,5,-1,5,2}\n",
    "s2"
   ]
  },
  {
   "cell_type": "code",
   "execution_count": 28,
   "id": "735a022f-a443-4e1e-b9aa-32e79aa9fbc3",
   "metadata": {},
   "outputs": [
    {
     "name": "stdout",
     "output_type": "stream",
     "text": [
      "{0.5, True, -1, 'hello', (4, 2)}\n"
     ]
    }
   ],
   "source": [
    "s3={True,-1,0.5,\"hello\",(4,2)}  #Mixed set\n",
    "print(s3)"
   ]
  },
  {
   "cell_type": "code",
   "execution_count": 74,
   "id": "82718a12-c84d-4abe-98be-fc47b563b470",
   "metadata": {},
   "outputs": [],
   "source": [
    "#Built in functions"
   ]
  },
  {
   "cell_type": "code",
   "execution_count": 76,
   "id": "df61177b-7322-4eff-933d-32394f18c89a",
   "metadata": {},
   "outputs": [
    {
     "ename": "TypeError",
     "evalue": "'set' object is not subscriptable",
     "output_type": "error",
     "traceback": [
      "\u001b[1;31m---------------------------------------------------------------------------\u001b[0m",
      "\u001b[1;31mTypeError\u001b[0m                                 Traceback (most recent call last)",
      "Cell \u001b[1;32mIn[76], line 1\u001b[0m\n\u001b[1;32m----> 1\u001b[0m s2[\u001b[38;5;241m4\u001b[39m]\n",
      "\u001b[1;31mTypeError\u001b[0m: 'set' object is not subscriptable"
     ]
    }
   ],
   "source": [
    "s2[4]  #indexing not supported in sets"
   ]
  },
  {
   "cell_type": "code",
   "execution_count": 77,
   "id": "4610c7f0-9dfa-4cdc-9e4e-64cc8db02af7",
   "metadata": {},
   "outputs": [],
   "source": [
    "#add()-- adds a new value in the set"
   ]
  },
  {
   "cell_type": "code",
   "execution_count": 30,
   "id": "034b8e8e-dbf3-4eee-997e-899c1dd2a69b",
   "metadata": {},
   "outputs": [
    {
     "data": {
      "text/plain": [
       "{-1, 1, 2, 5}"
      ]
     },
     "execution_count": 30,
     "metadata": {},
     "output_type": "execute_result"
    }
   ],
   "source": [
    "s2"
   ]
  },
  {
   "cell_type": "code",
   "execution_count": 32,
   "id": "6f979fd3-cb2b-4de0-95b3-8cf6892ae8e8",
   "metadata": {},
   "outputs": [
    {
     "data": {
      "text/plain": [
       "{-1, 0.2, 1, 2, 5}"
      ]
     },
     "execution_count": 32,
     "metadata": {},
     "output_type": "execute_result"
    }
   ],
   "source": [
    "s2.add(0.2)\n",
    "s2"
   ]
  },
  {
   "cell_type": "code",
   "execution_count": 80,
   "id": "fb80e0b1-5db6-4b30-b176-0b6b84c3995f",
   "metadata": {},
   "outputs": [],
   "source": [
    "#update()-- adds multiple elements to set"
   ]
  },
  {
   "cell_type": "code",
   "execution_count": 34,
   "id": "22b387e4-691f-4274-b74c-598422540f17",
   "metadata": {},
   "outputs": [
    {
     "data": {
      "text/plain": [
       "{-3, -1, 0.2, 1, 2, 5, 12}"
      ]
     },
     "execution_count": 34,
     "metadata": {},
     "output_type": "execute_result"
    }
   ],
   "source": [
    "s2.update((-3,12))\n",
    "s2"
   ]
  },
  {
   "cell_type": "code",
   "execution_count": 83,
   "id": "cfa09543-cc18-49a9-b3f5-3cfc9d76fa29",
   "metadata": {},
   "outputs": [],
   "source": [
    "#remove(value) -- removes based on value"
   ]
  },
  {
   "cell_type": "code",
   "execution_count": 38,
   "id": "6eb9d83e-fbdf-4070-8f63-db70936fbaac",
   "metadata": {},
   "outputs": [
    {
     "data": {
      "text/plain": [
       "{-3, -1, 1, 2, 5, 12}"
      ]
     },
     "execution_count": 38,
     "metadata": {},
     "output_type": "execute_result"
    }
   ],
   "source": [
    "s2.remove(0.2)\n",
    "s2"
   ]
  },
  {
   "cell_type": "code",
   "execution_count": null,
   "id": "61822d05-ccd6-4888-969e-762ad5884166",
   "metadata": {},
   "outputs": [],
   "source": [
    "#discard(value) -- removes based on value"
   ]
  },
  {
   "cell_type": "code",
   "execution_count": 40,
   "id": "e4ef0a2b-1d42-4c7f-b5b0-5f63df4aabd2",
   "metadata": {},
   "outputs": [
    {
     "data": {
      "text/plain": [
       "{-3, 1, 2, 5, 12}"
      ]
     },
     "execution_count": 40,
     "metadata": {},
     "output_type": "execute_result"
    }
   ],
   "source": [
    "s2.discard(-1)\n",
    "s2"
   ]
  },
  {
   "cell_type": "code",
   "execution_count": 92,
   "id": "02a20440-4f64-4196-a5a1-3034b2a66a92",
   "metadata": {},
   "outputs": [],
   "source": [
    "#clear() -- empties the set"
   ]
  },
  {
   "cell_type": "code",
   "execution_count": 42,
   "id": "e135e7f9-9a34-4d09-8de1-c3c440fbfff3",
   "metadata": {},
   "outputs": [
    {
     "data": {
      "text/plain": [
       "set()"
      ]
     },
     "execution_count": 42,
     "metadata": {},
     "output_type": "execute_result"
    }
   ],
   "source": [
    "s2.clear()\n",
    "s2"
   ]
  },
  {
   "cell_type": "code",
   "execution_count": 46,
   "id": "f40a6dcd-2369-4d36-86ef-aa4443ec1c86",
   "metadata": {},
   "outputs": [],
   "source": [
    "del s2"
   ]
  },
  {
   "cell_type": "code",
   "execution_count": 48,
   "id": "789dd0b3-93e4-4a4b-bc55-e4c179cd878d",
   "metadata": {},
   "outputs": [
    {
     "ename": "NameError",
     "evalue": "name 's2' is not defined",
     "output_type": "error",
     "traceback": [
      "\u001b[1;31m---------------------------------------------------------------------------\u001b[0m",
      "\u001b[1;31mNameError\u001b[0m                                 Traceback (most recent call last)",
      "Cell \u001b[1;32mIn[48], line 1\u001b[0m\n\u001b[1;32m----> 1\u001b[0m s2\n",
      "\u001b[1;31mNameError\u001b[0m: name 's2' is not defined"
     ]
    }
   ],
   "source": [
    "s2"
   ]
  },
  {
   "cell_type": "markdown",
   "id": "8f15b3f2-aae8-406c-b5c4-831723a336e6",
   "metadata": {},
   "source": [
    "# Set Operations"
   ]
  },
  {
   "cell_type": "code",
   "execution_count": 97,
   "id": "ea7376c6-37cf-4b30-8b4a-713d0e36c02b",
   "metadata": {},
   "outputs": [],
   "source": [
    "#union() -- returns all elements from 2 or more sets\n",
    "#intersection() -- returns comman elements from sets\n",
    "#difference()-- returns elements present in first set but not present in second set"
   ]
  },
  {
   "cell_type": "code",
   "execution_count": 98,
   "id": "4e8c2b01-f734-4f63-ac67-06831acbde44",
   "metadata": {},
   "outputs": [],
   "source": [
    "A={1,2,3,4,5}\n",
    "B={4,5,6,7,8}\n",
    "C={8,9,10}"
   ]
  },
  {
   "cell_type": "code",
   "execution_count": 99,
   "id": "56455c4e-145c-4abc-a4de-faf26c8f5146",
   "metadata": {},
   "outputs": [
    {
     "data": {
      "text/plain": [
       "{1, 2, 3, 4, 5, 6, 7, 8}"
      ]
     },
     "execution_count": 99,
     "metadata": {},
     "output_type": "execute_result"
    }
   ],
   "source": [
    "A.union(B)"
   ]
  },
  {
   "cell_type": "code",
   "execution_count": 103,
   "id": "7e3b7cfe-ac13-419f-ae49-777fd4f80d56",
   "metadata": {},
   "outputs": [
    {
     "data": {
      "text/plain": [
       "{1, 2, 3, 4, 5, 6, 7, 8}"
      ]
     },
     "execution_count": 103,
     "metadata": {},
     "output_type": "execute_result"
    }
   ],
   "source": [
    "A|B"
   ]
  },
  {
   "cell_type": "code",
   "execution_count": 100,
   "id": "81811d62-fd2f-4985-b5f0-5c36c56b603e",
   "metadata": {},
   "outputs": [
    {
     "data": {
      "text/plain": [
       "{1, 2, 3, 4, 5, 6, 7, 8, 9, 10}"
      ]
     },
     "execution_count": 100,
     "metadata": {},
     "output_type": "execute_result"
    }
   ],
   "source": [
    "A.union(B,C)"
   ]
  },
  {
   "cell_type": "code",
   "execution_count": 106,
   "id": "5deb5a0d-e802-471d-bdea-24efe95c7c68",
   "metadata": {},
   "outputs": [
    {
     "data": {
      "text/plain": [
       "set()"
      ]
     },
     "execution_count": 106,
     "metadata": {},
     "output_type": "execute_result"
    }
   ],
   "source": [
    "A.intersection(B,C)"
   ]
  },
  {
   "cell_type": "code",
   "execution_count": 105,
   "id": "ab5fc13a-4d0b-482f-8731-c28425814aa2",
   "metadata": {},
   "outputs": [
    {
     "data": {
      "text/plain": [
       "{4, 5}"
      ]
     },
     "execution_count": 105,
     "metadata": {},
     "output_type": "execute_result"
    }
   ],
   "source": [
    "A&B"
   ]
  },
  {
   "cell_type": "code",
   "execution_count": 108,
   "id": "25fc57ca-9fbb-48c8-8928-721bed5ec3a0",
   "metadata": {},
   "outputs": [
    {
     "data": {
      "text/plain": [
       "{4, 5, 6, 7}"
      ]
     },
     "execution_count": 108,
     "metadata": {},
     "output_type": "execute_result"
    }
   ],
   "source": [
    "B.difference(C)  #elements which are only present in B, but not in C"
   ]
  },
  {
   "cell_type": "code",
   "execution_count": 109,
   "id": "bf59f8e9-5b5c-4c20-b72e-b3fe0fbf0695",
   "metadata": {},
   "outputs": [
    {
     "data": {
      "text/plain": [
       "{4, 5, 6, 7}"
      ]
     },
     "execution_count": 109,
     "metadata": {},
     "output_type": "execute_result"
    }
   ],
   "source": [
    "B-C"
   ]
  },
  {
   "cell_type": "code",
   "execution_count": 110,
   "id": "01779615-7bbc-4a25-9455-c957c431879b",
   "metadata": {},
   "outputs": [
    {
     "data": {
      "text/plain": [
       "{1, 2, 3, 4, 5}"
      ]
     },
     "execution_count": 110,
     "metadata": {},
     "output_type": "execute_result"
    }
   ],
   "source": [
    "A-C"
   ]
  },
  {
   "cell_type": "code",
   "execution_count": 111,
   "id": "b0fe9eef-68b0-4b69-9e07-f42b23e1786c",
   "metadata": {},
   "outputs": [
    {
     "data": {
      "text/plain": [
       "{4, 5, 6, 7, 8}"
      ]
     },
     "execution_count": 111,
     "metadata": {},
     "output_type": "execute_result"
    }
   ],
   "source": [
    "B"
   ]
  },
  {
   "cell_type": "code",
   "execution_count": 113,
   "id": "0f429c5c-cc4a-4391-b072-7ffcd45088a5",
   "metadata": {},
   "outputs": [
    {
     "data": {
      "text/plain": [
       "[4, 5, 6, 7, 8]"
      ]
     },
     "execution_count": 113,
     "metadata": {},
     "output_type": "execute_result"
    }
   ],
   "source": [
    "B_list=list(B)  #typecast of set to list\n",
    "B_list"
   ]
  },
  {
   "cell_type": "code",
   "execution_count": 114,
   "id": "4b038f8c-0f95-4e23-bfcb-2378fd96f749",
   "metadata": {},
   "outputs": [
    {
     "data": {
      "text/plain": [
       "{4, 5, 6, 7, 8}"
      ]
     },
     "execution_count": 114,
     "metadata": {},
     "output_type": "execute_result"
    }
   ],
   "source": [
    "B_set=set(B_list)\n",
    "B_set"
   ]
  },
  {
   "cell_type": "markdown",
   "id": "cb6c36d2-60db-4938-8ffc-5f367647f8ad",
   "metadata": {},
   "source": [
    "# Dictionary"
   ]
  },
  {
   "cell_type": "markdown",
   "id": "ef7e1c38-fd53-455f-845d-a30be893e97e",
   "metadata": {},
   "source": [
    "* It is mutable data structure where all elements will be in the format of key-value pair\n",
    "* All elements will be stored inside {}"
   ]
  },
  {
   "cell_type": "code",
   "execution_count": 50,
   "id": "ed131531-8da9-4e8f-888f-f7c442b232b0",
   "metadata": {},
   "outputs": [
    {
     "data": {
      "text/plain": [
       "{}"
      ]
     },
     "execution_count": 50,
     "metadata": {},
     "output_type": "execute_result"
    }
   ],
   "source": [
    "d1={} #empty dictionary\n",
    "d1"
   ]
  },
  {
   "cell_type": "code",
   "execution_count": 52,
   "id": "e76a2dd9-e67b-4f9c-8a85-cc6500cd0493",
   "metadata": {},
   "outputs": [
    {
     "data": {
      "text/plain": [
       "dict"
      ]
     },
     "execution_count": 52,
     "metadata": {},
     "output_type": "execute_result"
    }
   ],
   "source": [
    "type(d1)"
   ]
  },
  {
   "cell_type": "code",
   "execution_count": 54,
   "id": "63f5cc11-5da3-4e49-85ed-38e90c0d12a1",
   "metadata": {},
   "outputs": [
    {
     "data": {
      "text/plain": [
       "{5: 'five', 8: 'eight', 12: 'twelve'}"
      ]
     },
     "execution_count": 54,
     "metadata": {},
     "output_type": "execute_result"
    }
   ],
   "source": [
    "d2={5:'five',8:'eight',12:'twelve'}  #dict with int keys\n",
    "d2"
   ]
  },
  {
   "cell_type": "code",
   "execution_count": 56,
   "id": "413fb9b5-4ce3-4528-a310-4e3554f62106",
   "metadata": {},
   "outputs": [
    {
     "data": {
      "text/plain": [
       "{'name': 'john', 'age': 20, 'subject': 'maths'}"
      ]
     },
     "execution_count": 56,
     "metadata": {},
     "output_type": "execute_result"
    }
   ],
   "source": [
    "d3={'name':'john', 'age':20, 'subject':'maths'}  #dict with str keys\n",
    "d3"
   ]
  },
  {
   "cell_type": "code",
   "execution_count": 58,
   "id": "27c3a605-3233-4d71-ab32-a7613d8eeb12",
   "metadata": {},
   "outputs": [
    {
     "data": {
      "text/plain": [
       "{'name': 'Mike',\n",
       " 'age': 25,\n",
       " 'subject': ['maths', 'science', 'english', 'history'],\n",
       " 'Marks': (45, 34, 100, 68)}"
      ]
     },
     "execution_count": 58,
     "metadata": {},
     "output_type": "execute_result"
    }
   ],
   "source": [
    "d4={'name':'Mike', 'age':25, 'subject':['maths','science','english','history'],'Marks':(45,34,100,68)}\n",
    "d4"
   ]
  },
  {
   "cell_type": "code",
   "execution_count": 60,
   "id": "e2b302a9-e432-4913-a14f-bcd598ccaa2f",
   "metadata": {},
   "outputs": [
    {
     "data": {
      "text/plain": [
       "{'student1': {'name': 'john', 'age': 20},\n",
       " 'student2': {'name': 'mike', 'age': 25},\n",
       " 'student3': {'name': 'Tom', 'age': 30}}"
      ]
     },
     "execution_count": 60,
     "metadata": {},
     "output_type": "execute_result"
    }
   ],
   "source": [
    "d5={                                               #Nested dictionary\n",
    "    'student1':{'name':'john', 'age':20},\n",
    "    'student2':{'name':'mike', 'age':25},\n",
    "    'student3':{'name':'Tom', 'age':30},\n",
    "   }\n",
    "d5"
   ]
  },
  {
   "cell_type": "code",
   "execution_count": 9,
   "id": "771fc179-0830-4192-9e1b-1619678eb668",
   "metadata": {},
   "outputs": [],
   "source": [
    "#To print values we use keys"
   ]
  },
  {
   "cell_type": "code",
   "execution_count": 62,
   "id": "59702e25-547d-48f1-b429-3559d90a4a11",
   "metadata": {},
   "outputs": [
    {
     "data": {
      "text/plain": [
       "{5: 'five', 8: 'eight', 12: 'twelve'}"
      ]
     },
     "execution_count": 62,
     "metadata": {},
     "output_type": "execute_result"
    }
   ],
   "source": [
    "d2"
   ]
  },
  {
   "cell_type": "code",
   "execution_count": 64,
   "id": "9020c1bb-5558-415d-b814-e8141749c588",
   "metadata": {},
   "outputs": [
    {
     "data": {
      "text/plain": [
       "'twelve'"
      ]
     },
     "execution_count": 64,
     "metadata": {},
     "output_type": "execute_result"
    }
   ],
   "source": [
    "d2[12]"
   ]
  },
  {
   "cell_type": "code",
   "execution_count": 12,
   "id": "5afa70f6-a234-4852-80ce-dd05b1f41e46",
   "metadata": {},
   "outputs": [
    {
     "data": {
      "text/plain": [
       "{'name': 'Mike',\n",
       " 'age': 25,\n",
       " 'subject': ['maths', 'science', 'english', 'history'],\n",
       " 'Marks': (45, 34, 100, 68)}"
      ]
     },
     "execution_count": 12,
     "metadata": {},
     "output_type": "execute_result"
    }
   ],
   "source": [
    "d4"
   ]
  },
  {
   "cell_type": "code",
   "execution_count": 66,
   "id": "a3a5d9a6-9765-4ddc-828b-97edc9687c47",
   "metadata": {},
   "outputs": [
    {
     "data": {
      "text/plain": [
       "'english'"
      ]
     },
     "execution_count": 66,
     "metadata": {},
     "output_type": "execute_result"
    }
   ],
   "source": [
    "d4['subject'][2]"
   ]
  },
  {
   "cell_type": "code",
   "execution_count": 23,
   "id": "5cf29104-cd95-42af-99e8-7d8bf685d44f",
   "metadata": {},
   "outputs": [
    {
     "data": {
      "text/plain": [
       "34"
      ]
     },
     "execution_count": 23,
     "metadata": {},
     "output_type": "execute_result"
    }
   ],
   "source": [
    "d4['Marks'][1]"
   ]
  },
  {
   "cell_type": "code",
   "execution_count": 24,
   "id": "33b139c3-d309-41f7-82cd-d44e62362b76",
   "metadata": {},
   "outputs": [
    {
     "data": {
      "text/plain": [
       "{'student1': {'name': 'john', 'age': 20},\n",
       " 'student2': {'name': 'mike', 'age': 25},\n",
       " 'student3': {'name': 'Tom', 'age': 30}}"
      ]
     },
     "execution_count": 24,
     "metadata": {},
     "output_type": "execute_result"
    }
   ],
   "source": [
    "d5"
   ]
  },
  {
   "cell_type": "code",
   "execution_count": 28,
   "id": "a74a5e99-0675-4b79-8a43-8adaab0ffb7b",
   "metadata": {},
   "outputs": [
    {
     "name": "stdout",
     "output_type": "stream",
     "text": [
      "Tom 25\n"
     ]
    }
   ],
   "source": [
    "print(d5['student3']['name'],d5['student2']['age'])"
   ]
  },
  {
   "cell_type": "code",
   "execution_count": 27,
   "id": "1aacf1e4-5cf2-4f31-a78f-f797705999b1",
   "metadata": {},
   "outputs": [
    {
     "data": {
      "text/plain": [
       "25"
      ]
     },
     "execution_count": 27,
     "metadata": {},
     "output_type": "execute_result"
    }
   ],
   "source": [
    "d5['student2']['age']"
   ]
  },
  {
   "cell_type": "code",
   "execution_count": 30,
   "id": "60f6b9d1-814c-43bf-bf5c-11e2f610ab76",
   "metadata": {},
   "outputs": [
    {
     "data": {
      "text/plain": [
       "dict_keys([5, 8, 12])"
      ]
     },
     "execution_count": 30,
     "metadata": {},
     "output_type": "execute_result"
    }
   ],
   "source": [
    "d2.keys()  #prints all keys"
   ]
  },
  {
   "cell_type": "code",
   "execution_count": 32,
   "id": "8e7915df-f877-44ae-abf7-12e3b29dcc83",
   "metadata": {},
   "outputs": [
    {
     "data": {
      "text/plain": [
       "dict_values(['john', 20, 'maths'])"
      ]
     },
     "execution_count": 32,
     "metadata": {},
     "output_type": "execute_result"
    }
   ],
   "source": [
    "d3.values()  #prints all values"
   ]
  },
  {
   "cell_type": "code",
   "execution_count": 33,
   "id": "cf4e32d8-f31a-4eba-8068-71fb03fecd7a",
   "metadata": {},
   "outputs": [
    {
     "data": {
      "text/plain": [
       "dict_items([('name', 'john'), ('age', 20), ('subject', 'maths')])"
      ]
     },
     "execution_count": 33,
     "metadata": {},
     "output_type": "execute_result"
    }
   ],
   "source": [
    "d3.items() #prints key-value pairs"
   ]
  },
  {
   "cell_type": "markdown",
   "id": "f5f572a8-2f56-4063-8915-5fbe716b6ae8",
   "metadata": {},
   "source": [
    "# Operations on dictionary"
   ]
  },
  {
   "cell_type": "code",
   "execution_count": 34,
   "id": "4c298e9d-6897-4b48-ae98-6a4fec81aa83",
   "metadata": {},
   "outputs": [
    {
     "data": {
      "text/plain": [
       "{'name': 'john', 'age': 20, 'subject': 'maths'}"
      ]
     },
     "execution_count": 34,
     "metadata": {},
     "output_type": "execute_result"
    }
   ],
   "source": [
    "d3"
   ]
  },
  {
   "cell_type": "code",
   "execution_count": 35,
   "id": "d0656067-2372-41f0-886c-2963f9bb64a7",
   "metadata": {},
   "outputs": [],
   "source": [
    "#update()-- adds or updates key and value"
   ]
  },
  {
   "cell_type": "code",
   "execution_count": 36,
   "id": "25e3e8cc-c385-4b49-b3f4-a1244d0083bf",
   "metadata": {},
   "outputs": [
    {
     "data": {
      "text/plain": [
       "{'name': 'john', 'age': 20, 'subject': 'maths', 'city': 'Mumbai'}"
      ]
     },
     "execution_count": 36,
     "metadata": {},
     "output_type": "execute_result"
    }
   ],
   "source": [
    "d3.update({'city':'Mumbai'})\n",
    "d3"
   ]
  },
  {
   "cell_type": "code",
   "execution_count": 37,
   "id": "d25d1095-ce14-436a-9140-da4a49651b55",
   "metadata": {},
   "outputs": [
    {
     "data": {
      "text/plain": [
       "{'name': 'john', 'age': 25, 'subject': 'maths', 'city': 'Mumbai'}"
      ]
     },
     "execution_count": 37,
     "metadata": {},
     "output_type": "execute_result"
    }
   ],
   "source": [
    "d3.update({'age':25})\n",
    "d3"
   ]
  },
  {
   "cell_type": "code",
   "execution_count": 38,
   "id": "aa37187d-3c4f-4f30-8459-9acb2036d2ec",
   "metadata": {},
   "outputs": [],
   "source": [
    "#using = operator too we can add or update key and value"
   ]
  },
  {
   "cell_type": "code",
   "execution_count": 39,
   "id": "3abb4d47-0301-4153-9deb-0b6716afaed9",
   "metadata": {},
   "outputs": [
    {
     "data": {
      "text/plain": [
       "{'name': 'john', 'age': 25, 'subject': 'maths', 'city': 'Mumbai', 'marks': 100}"
      ]
     },
     "execution_count": 39,
     "metadata": {},
     "output_type": "execute_result"
    }
   ],
   "source": [
    "d3['marks']=100\n",
    "d3"
   ]
  },
  {
   "cell_type": "code",
   "execution_count": 40,
   "id": "a7a39ae1-464e-466d-ad54-8781ed5f4fe1",
   "metadata": {},
   "outputs": [
    {
     "data": {
      "text/plain": [
       "{'name': 'Mike', 'age': 25, 'subject': 'maths', 'city': 'Mumbai', 'marks': 100}"
      ]
     },
     "execution_count": 40,
     "metadata": {},
     "output_type": "execute_result"
    }
   ],
   "source": [
    "d3['name']='Mike'\n",
    "d3"
   ]
  },
  {
   "cell_type": "code",
   "execution_count": 41,
   "id": "054b4ebb-a526-4f77-8995-5f3da8af91ef",
   "metadata": {},
   "outputs": [],
   "source": [
    "#pop(key)--removes key-value pair based on key"
   ]
  },
  {
   "cell_type": "code",
   "execution_count": 42,
   "id": "e3ce16ab-7fa1-4e49-8d01-2fbecca050dc",
   "metadata": {},
   "outputs": [
    {
     "data": {
      "text/plain": [
       "{'name': 'Mike', 'age': 25, 'city': 'Mumbai', 'marks': 100}"
      ]
     },
     "execution_count": 42,
     "metadata": {},
     "output_type": "execute_result"
    }
   ],
   "source": [
    "d3.pop('subject')\n",
    "d3"
   ]
  },
  {
   "cell_type": "code",
   "execution_count": 43,
   "id": "8f22da3c-65a5-4833-a8f6-2453ae9fe6c8",
   "metadata": {},
   "outputs": [],
   "source": [
    "#popitem()-- removes last key-value pair"
   ]
  },
  {
   "cell_type": "code",
   "execution_count": 44,
   "id": "578b93de-04fe-49a1-90a1-4dba470b61e9",
   "metadata": {},
   "outputs": [
    {
     "data": {
      "text/plain": [
       "{'name': 'Mike', 'age': 25, 'city': 'Mumbai'}"
      ]
     },
     "execution_count": 44,
     "metadata": {},
     "output_type": "execute_result"
    }
   ],
   "source": [
    "d3.popitem()\n",
    "d3"
   ]
  },
  {
   "cell_type": "code",
   "execution_count": 45,
   "id": "a1a2d2ad-969e-4b2f-8c28-1abe522b49bf",
   "metadata": {},
   "outputs": [],
   "source": [
    "#clear()--deletes all items together"
   ]
  },
  {
   "cell_type": "code",
   "execution_count": 46,
   "id": "09530480-3e9b-4dac-8356-1cb45e26bcd2",
   "metadata": {},
   "outputs": [
    {
     "data": {
      "text/plain": [
       "{}"
      ]
     },
     "execution_count": 46,
     "metadata": {},
     "output_type": "execute_result"
    }
   ],
   "source": [
    "d3.clear()\n",
    "d3"
   ]
  },
  {
   "cell_type": "code",
   "execution_count": 47,
   "id": "17ea45f9-0f7f-433f-8703-64df57c8298f",
   "metadata": {},
   "outputs": [],
   "source": [
    "del d3"
   ]
  },
  {
   "cell_type": "code",
   "execution_count": 48,
   "id": "0c268238-76f7-45f3-bfd3-fcffcd74978c",
   "metadata": {},
   "outputs": [
    {
     "ename": "NameError",
     "evalue": "name 'd3' is not defined",
     "output_type": "error",
     "traceback": [
      "\u001b[1;31m---------------------------------------------------------------------------\u001b[0m",
      "\u001b[1;31mNameError\u001b[0m                                 Traceback (most recent call last)",
      "Cell \u001b[1;32mIn[48], line 1\u001b[0m\n\u001b[1;32m----> 1\u001b[0m d3\n",
      "\u001b[1;31mNameError\u001b[0m: name 'd3' is not defined"
     ]
    }
   ],
   "source": [
    "d3"
   ]
  },
  {
   "cell_type": "code",
   "execution_count": 49,
   "id": "3111f33f-4143-4c72-9cf8-f5b49223d1fa",
   "metadata": {},
   "outputs": [
    {
     "data": {
      "text/plain": [
       "{'student1': {'name': 'john', 'age': 20},\n",
       " 'student2': {'name': 'mike', 'age': 25},\n",
       " 'student3': {'name': 'Tom', 'age': 30}}"
      ]
     },
     "execution_count": 49,
     "metadata": {},
     "output_type": "execute_result"
    }
   ],
   "source": [
    "d5"
   ]
  },
  {
   "cell_type": "code",
   "execution_count": 50,
   "id": "183dff8d-5665-4316-aeb6-2d77570687a3",
   "metadata": {},
   "outputs": [
    {
     "data": {
      "text/plain": [
       "30"
      ]
     },
     "execution_count": 50,
     "metadata": {},
     "output_type": "execute_result"
    }
   ],
   "source": [
    "d5['student3'].pop('age')"
   ]
  },
  {
   "cell_type": "code",
   "execution_count": 51,
   "id": "446228aa-daf6-4be7-ae29-74c8aaab7657",
   "metadata": {},
   "outputs": [
    {
     "data": {
      "text/plain": [
       "{'student1': {'name': 'john', 'age': 20},\n",
       " 'student2': {'name': 'mike', 'age': 25},\n",
       " 'student3': {'name': 'Tom'}}"
      ]
     },
     "execution_count": 51,
     "metadata": {},
     "output_type": "execute_result"
    }
   ],
   "source": [
    "d5"
   ]
  },
  {
   "cell_type": "markdown",
   "id": "bf4b2807-fdc2-4762-bdc2-ada4664bce77",
   "metadata": {},
   "source": [
    "# Datetime library"
   ]
  },
  {
   "cell_type": "code",
   "execution_count": 52,
   "id": "c42f9d12-8f1e-4776-8d08-20660f9c1e43",
   "metadata": {},
   "outputs": [],
   "source": [
    "#date module"
   ]
  },
  {
   "cell_type": "code",
   "execution_count": 68,
   "id": "52c9f7a5-c704-4b2e-9f8a-2146e75fd436",
   "metadata": {},
   "outputs": [],
   "source": [
    "from datetime import date   #from library import module"
   ]
  },
  {
   "cell_type": "code",
   "execution_count": 70,
   "id": "647d9c04-9700-408c-b1dc-c56138ec0f7f",
   "metadata": {},
   "outputs": [
    {
     "name": "stdout",
     "output_type": "stream",
     "text": [
      "2020-12-01\n"
     ]
    }
   ],
   "source": [
    "#create date\n",
    "date1=date(2020,12,1)  #y,m,d\n",
    "print(date1)"
   ]
  },
  {
   "cell_type": "code",
   "execution_count": 72,
   "id": "904d1e63-d440-4821-8acc-8a1ef5cf40c6",
   "metadata": {},
   "outputs": [
    {
     "data": {
      "text/plain": [
       "2"
      ]
     },
     "execution_count": 72,
     "metadata": {},
     "output_type": "execute_result"
    }
   ],
   "source": [
    "date1.isoweekday()  #returns day of week --1:Monday, 2:Tuesaday"
   ]
  },
  {
   "cell_type": "code",
   "execution_count": 74,
   "id": "ebbe5796-31e8-4b12-9b7f-0e7d0944fcd9",
   "metadata": {},
   "outputs": [
    {
     "name": "stdout",
     "output_type": "stream",
     "text": [
      "2025-06-13\n"
     ]
    }
   ],
   "source": [
    "today1=date.today()   #returns today's date\n",
    "print(today1)"
   ]
  },
  {
   "cell_type": "code",
   "execution_count": 76,
   "id": "da5c80f1-d5e9-4484-8a2f-b81641361a1c",
   "metadata": {},
   "outputs": [
    {
     "data": {
      "text/plain": [
       "5"
      ]
     },
     "execution_count": 76,
     "metadata": {},
     "output_type": "execute_result"
    }
   ],
   "source": [
    "today1.isoweekday()"
   ]
  },
  {
   "cell_type": "code",
   "execution_count": 78,
   "id": "4ce30002-55a1-475e-9265-8bc1e2c227d0",
   "metadata": {},
   "outputs": [
    {
     "data": {
      "text/plain": [
       "13"
      ]
     },
     "execution_count": 78,
     "metadata": {},
     "output_type": "execute_result"
    }
   ],
   "source": [
    "today1.day"
   ]
  },
  {
   "cell_type": "code",
   "execution_count": 80,
   "id": "5e01271d-7fff-4034-933e-01de2cea53f4",
   "metadata": {},
   "outputs": [
    {
     "data": {
      "text/plain": [
       "6"
      ]
     },
     "execution_count": 80,
     "metadata": {},
     "output_type": "execute_result"
    }
   ],
   "source": [
    "today1.month"
   ]
  },
  {
   "cell_type": "code",
   "execution_count": 64,
   "id": "70352cf9-dd00-4772-b31d-a6bb6f6f2573",
   "metadata": {},
   "outputs": [],
   "source": [
    "#time"
   ]
  },
  {
   "cell_type": "code",
   "execution_count": 86,
   "id": "2f250f80-af63-476f-84b8-78fc7f06092e",
   "metadata": {},
   "outputs": [],
   "source": [
    "from datetime import time"
   ]
  },
  {
   "cell_type": "code",
   "execution_count": 88,
   "id": "f262ff6d-04fc-42f4-a9f8-c82f86b1d4f8",
   "metadata": {},
   "outputs": [
    {
     "name": "stdout",
     "output_type": "stream",
     "text": [
      "05:12:40.677681\n"
     ]
    }
   ],
   "source": [
    "time1=time(5,12,40,677681)\n",
    "print(time1)"
   ]
  },
  {
   "cell_type": "code",
   "execution_count": 74,
   "id": "badf9b82-4d78-42c0-b6db-8d102589bcaa",
   "metadata": {},
   "outputs": [
    {
     "data": {
      "text/plain": [
       "677681"
      ]
     },
     "execution_count": 74,
     "metadata": {},
     "output_type": "execute_result"
    }
   ],
   "source": [
    "time1.microsecond"
   ]
  },
  {
   "cell_type": "code",
   "execution_count": 92,
   "id": "6f2a5fc6-29bc-40fd-bc34-6caeead0128c",
   "metadata": {},
   "outputs": [],
   "source": [
    "from datetime import datetime as dt,timedelta as td"
   ]
  },
  {
   "cell_type": "code",
   "execution_count": 90,
   "id": "1117d07b-f6d5-4f6d-9441-9ee6a724bfc2",
   "metadata": {},
   "outputs": [
    {
     "ename": "NameError",
     "evalue": "name 'dt' is not defined",
     "output_type": "error",
     "traceback": [
      "\u001b[1;31m---------------------------------------------------------------------------\u001b[0m",
      "\u001b[1;31mNameError\u001b[0m                                 Traceback (most recent call last)",
      "Cell \u001b[1;32mIn[90], line 1\u001b[0m\n\u001b[1;32m----> 1\u001b[0m current\u001b[38;5;241m=\u001b[39mdt\u001b[38;5;241m.\u001b[39mnow() \u001b[38;5;66;03m#returns today's date and time\u001b[39;00m\n\u001b[0;32m      2\u001b[0m \u001b[38;5;28mprint\u001b[39m(current)\n",
      "\u001b[1;31mNameError\u001b[0m: name 'dt' is not defined"
     ]
    }
   ],
   "source": [
    "current=dt.now() #returns today's date and time\n",
    "print(current)"
   ]
  },
  {
   "cell_type": "code",
   "execution_count": 85,
   "id": "f83654a2-b717-459b-a59f-aca7570ff1dc",
   "metadata": {},
   "outputs": [
    {
     "data": {
      "text/plain": [
       "'16-04-25'"
      ]
     },
     "execution_count": 85,
     "metadata": {},
     "output_type": "execute_result"
    }
   ],
   "source": [
    "current.strftime(\"%d-%m-%y\")"
   ]
  },
  {
   "cell_type": "code",
   "execution_count": 88,
   "id": "5f85fc18-be9e-481b-9beb-1dfe19b77eed",
   "metadata": {},
   "outputs": [],
   "source": [
    "from datetime import timedelta as td"
   ]
  },
  {
   "cell_type": "code",
   "execution_count": 94,
   "id": "c16acba9-cad6-487a-b524-fb6b4e7eb459",
   "metadata": {},
   "outputs": [],
   "source": [
    "#Date after 10000 days"
   ]
  },
  {
   "cell_type": "code",
   "execution_count": 91,
   "id": "eecd1f12-d38f-480a-9ca1-41c1934a32fb",
   "metadata": {},
   "outputs": [
    {
     "data": {
      "text/plain": [
       "datetime.date(2025, 4, 16)"
      ]
     },
     "execution_count": 91,
     "metadata": {},
     "output_type": "execute_result"
    }
   ],
   "source": [
    "today1"
   ]
  },
  {
   "cell_type": "code",
   "execution_count": 98,
   "id": "b864694c-9976-49bf-9369-b98c2ae2546f",
   "metadata": {},
   "outputs": [
    {
     "name": "stdout",
     "output_type": "stream",
     "text": [
      "2052-09-01\n"
     ]
    }
   ],
   "source": [
    "future_date=today1+td(days=10000)\n",
    "print(future_date)"
   ]
  },
  {
   "cell_type": "code",
   "execution_count": 99,
   "id": "27ccb878-ec2c-4f3f-955e-1c7a690d7788",
   "metadata": {},
   "outputs": [
    {
     "data": {
      "text/plain": [
       "7"
      ]
     },
     "execution_count": 99,
     "metadata": {},
     "output_type": "execute_result"
    }
   ],
   "source": [
    "future_date.isoweekday()"
   ]
  }
 ],
 "metadata": {
  "kernelspec": {
   "display_name": "Python [conda env:base] *",
   "language": "python",
   "name": "conda-base-py"
  },
  "language_info": {
   "codemirror_mode": {
    "name": "ipython",
    "version": 3
   },
   "file_extension": ".py",
   "mimetype": "text/x-python",
   "name": "python",
   "nbconvert_exporter": "python",
   "pygments_lexer": "ipython3",
   "version": "3.12.7"
  }
 },
 "nbformat": 4,
 "nbformat_minor": 5
}
